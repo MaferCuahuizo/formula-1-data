{
 "cells": [
  {
   "cell_type": "markdown",
   "id": "bf535331",
   "metadata": {},
   "source": [
    "##### Realizado por: Cuahuizo Astorga María Fernanda 201908424"
   ]
  },
  {
   "cell_type": "markdown",
   "id": "cae91d8b",
   "metadata": {},
   "source": [
    "# Librerías"
   ]
  },
  {
   "cell_type": "code",
   "execution_count": 1,
   "id": "78705e4a",
   "metadata": {},
   "outputs": [],
   "source": [
    "import requests #mandar un requerimiento a la API\n",
    "import json #poder estructurar nuestros datos\n",
    "import pandas as pd #para poder visualizar los datos en una estructura tabular\n",
    "\n",
    "import warnings\n",
    "warnings.filterwarnings(\"ignore\")"
   ]
  },
  {
   "cell_type": "markdown",
   "id": "a0b8d245",
   "metadata": {},
   "source": [
    "# 11) Lap Times"
   ]
  },
  {
   "cell_type": "code",
   "execution_count": 3,
   "id": "88ee3189",
   "metadata": {},
   "outputs": [
    {
     "name": "stdout",
     "output_type": "stream",
     "text": [
      "               raceName  driverId  position      time\n",
      "0    Spanish Grand Prix    webber         1  1:31.460\n",
      "1    Spanish Grand Prix    vettel         2  1:32.211\n",
      "2    Spanish Grand Prix  hamilton         3  1:33.114\n",
      "3    Spanish Grand Prix    alonso         4  1:33.939\n",
      "4    Spanish Grand Prix    button         5  1:34.658\n",
      "..                  ...       ...       ...       ...\n",
      "264    Miami Grand Prix     albon        16  1:46.365\n",
      "265    Miami Grand Prix    latifi        17  1:47.320\n",
      "266    Miami Grand Prix      ocon        18  1:47.446\n",
      "267    Miami Grand Prix    stroll        19  1:53.387\n",
      "268    Miami Grand Prix    vettel        20  1:54.106\n",
      "\n",
      "[269 rows x 4 columns]\n",
      "<class 'pandas.core.frame.DataFrame'>\n",
      "RangeIndex: 269 entries, 0 to 268\n",
      "Data columns (total 4 columns):\n",
      " #   Column    Non-Null Count  Dtype \n",
      "---  ------    --------------  ----- \n",
      " 0   raceName  269 non-null    object\n",
      " 1   driverId  269 non-null    object\n",
      " 2   position  269 non-null    int64 \n",
      " 3   time      269 non-null    object\n",
      "dtypes: int64(1), object(3)\n",
      "memory usage: 8.5+ KB\n",
      "None\n"
     ]
    }
   ],
   "source": [
    "LapTimes = {  'raceName':[],\n",
    "              'driverId':[],\n",
    "              'position':[],\n",
    "              'time':[]\n",
    "          }\n",
    "\n",
    "for year in list(range(2010,2023)):\n",
    "    url = 'http://ergast.com/api/f1/{}/5/laps/1.json'\n",
    "    response = requests.get(url.format(year))\n",
    "    content = json.loads(response.content)\n",
    "\n",
    "    for i in list(range(0, len(content['MRData']['RaceTable']['Races']))):\n",
    "        for item in content['MRData']['RaceTable']['Races'][i]['Laps']: \n",
    "            for j in list(range(0,len(content['MRData']['RaceTable']['Races'][i]['Laps']))):\n",
    "                for item2 in content['MRData']['RaceTable']['Races'][i]['Laps'][j]['Timings']:\n",
    "                    LapTimes['raceName'].append(content['MRData']['RaceTable']['Races'][i]['raceName'])\n",
    "                    LapTimes['driverId'].append(item2['driverId'])\n",
    "                    LapTimes['position'].append(int(item2['position']))\n",
    "                    LapTimes['time'].append(item2['time'])\n",
    "\n",
    "print(pd.DataFrame(LapTimes))\n",
    "print(pd.DataFrame(LapTimes).info())\n",
    "pd.DataFrame(LapTimes).to_csv('11.LapTimes.csv', index=False)"
   ]
  },
  {
   "cell_type": "markdown",
   "id": "62030a51",
   "metadata": {},
   "source": [
    "# 12) DriverStandings"
   ]
  },
  {
   "cell_type": "code",
   "execution_count": 4,
   "id": "f4bfcbc0",
   "metadata": {},
   "outputs": [
    {
     "name": "stdout",
     "output_type": "stream",
     "text": [
      "       driverId  position positionText  points  wins\n",
      "0        vettel         1            1   256.0     5\n",
      "1        alonso         2            2   252.0     5\n",
      "2        webber         3            3   242.0     4\n",
      "3      hamilton         4            4   240.0     3\n",
      "4        button         5            5   214.0     2\n",
      "..          ...       ...          ...     ...   ...\n",
      "299        zhou        18           18     6.0     0\n",
      "300       albon        19           19     4.0     0\n",
      "301      latifi        20           20     2.0     0\n",
      "302    de_vries        21           21     2.0     0\n",
      "303  hulkenberg        22           22     0.0     0\n",
      "\n",
      "[304 rows x 5 columns]\n",
      "<class 'pandas.core.frame.DataFrame'>\n",
      "RangeIndex: 304 entries, 0 to 303\n",
      "Data columns (total 5 columns):\n",
      " #   Column        Non-Null Count  Dtype  \n",
      "---  ------        --------------  -----  \n",
      " 0   driverId      304 non-null    object \n",
      " 1   position      304 non-null    int64  \n",
      " 2   positionText  304 non-null    object \n",
      " 3   points        304 non-null    float64\n",
      " 4   wins          304 non-null    int64  \n",
      "dtypes: float64(1), int64(2), object(2)\n",
      "memory usage: 12.0+ KB\n",
      "None\n"
     ]
    }
   ],
   "source": [
    "DriverStandings = {'driverId':[],\n",
    "                   'position':[],\n",
    "                   'positionText':[],\n",
    "                   'points':[],\n",
    "                   'wins':[]\n",
    "                  }\n",
    "\n",
    "for year in list(range(2010,2023)):\n",
    "    url = 'http://ergast.com/api/f1/{}/driverStandings.json'\n",
    "    response = requests.get(url.format(year))\n",
    "    content = json.loads(response.content)\n",
    "\n",
    "    for i in list(range(0, len(content['MRData']['StandingsTable']['StandingsLists']))):\n",
    "        for item in content['MRData']['StandingsTable']['StandingsLists'][i]['DriverStandings']:\n",
    "            DriverStandings['driverId'].append(item['Driver']['driverId'])\n",
    "            DriverStandings['position'].append(int(item['position']))\n",
    "            DriverStandings['positionText'].append(item['position'])\n",
    "            DriverStandings['points'].append(float(item['points']))\n",
    "            DriverStandings['wins'].append(int(item['wins']))\n",
    "            \n",
    "\n",
    "print(pd.DataFrame(DriverStandings))\n",
    "\n",
    "print(pd.DataFrame(DriverStandings).info())\n",
    "\n",
    "pd.DataFrame(DriverStandings).to_csv('12.DriverStandings.csv', index=False)"
   ]
  },
  {
   "cell_type": "markdown",
   "id": "9464a898",
   "metadata": {},
   "source": [
    "# 13) Constructor Standings\n"
   ]
  },
  {
   "cell_type": "code",
   "execution_count": 4,
   "id": "b2935945",
   "metadata": {},
   "outputs": [
    {
     "name": "stdout",
     "output_type": "stream",
     "text": [
      "    constructorId  position positionText  points  wins\n",
      "0        red_bull         1            1   498.0     9\n",
      "1         mclaren         2            2   454.0     5\n",
      "2         ferrari         3            3   396.0     5\n",
      "3        mercedes         4            4   214.0     0\n",
      "4         renault         5            5   163.0     0\n",
      "..            ...       ...          ...     ...   ...\n",
      "134          alfa         6            6    55.0     0\n",
      "135  aston_martin         7            7    55.0     0\n",
      "136          haas         8            8    37.0     0\n",
      "137    alphatauri         9            9    35.0     0\n",
      "138      williams        10           10     8.0     0\n",
      "\n",
      "[139 rows x 5 columns]\n",
      "<class 'pandas.core.frame.DataFrame'>\n",
      "RangeIndex: 139 entries, 0 to 138\n",
      "Data columns (total 5 columns):\n",
      " #   Column         Non-Null Count  Dtype  \n",
      "---  ------         --------------  -----  \n",
      " 0   constructorId  139 non-null    object \n",
      " 1   position       139 non-null    int64  \n",
      " 2   positionText   139 non-null    object \n",
      " 3   points         139 non-null    float64\n",
      " 4   wins           139 non-null    int64  \n",
      "dtypes: float64(1), int64(2), object(2)\n",
      "memory usage: 5.6+ KB\n",
      "None\n"
     ]
    }
   ],
   "source": [
    "constructorStandings = {'constructorId':[],\n",
    "                   'position':[],\n",
    "                   'positionText':[],\n",
    "                   'points':[],\n",
    "                   'wins':[]\n",
    "                  }\n",
    "\n",
    "for year in list(range(2010,2023)):\n",
    "    url = 'http://ergast.com/api/f1/{}/constructorStandings.json'\n",
    "    response = requests.get(url.format(year))\n",
    "    content = json.loads(response.content)\n",
    "\n",
    "    for i in list(range(0, len(content['MRData']['StandingsTable']['StandingsLists']))):\n",
    "        for item in content['MRData']['StandingsTable']['StandingsLists'][i]['ConstructorStandings']:\n",
    "            constructorStandings['constructorId'].append(item['Constructor']['constructorId'])\n",
    "            constructorStandings['position'].append(int(item['position']))\n",
    "            constructorStandings['positionText'].append(item['position'])\n",
    "            constructorStandings['points'].append(float(item['points']))\n",
    "            constructorStandings['wins'].append(int(item['wins']))\n",
    "            \n",
    "\n",
    "print(pd.DataFrame(constructorStandings))\n",
    "print(pd.DataFrame(constructorStandings).info())\n",
    "pd.DataFrame(constructorStandings).to_csv('13.constructorStandings.csv', index=False)"
   ]
  },
  {
   "cell_type": "markdown",
   "id": "e101042c",
   "metadata": {},
   "source": [
    "# 14) Constructor Results"
   ]
  },
  {
   "cell_type": "code",
   "execution_count": 6,
   "id": "3dda6b48",
   "metadata": {},
   "outputs": [
    {
     "name": "stdout",
     "output_type": "stream",
     "text": [
      "                     raceName constructorId    status  points\n",
      "0          Bahrain Grand Prix       ferrari  Finished      25\n",
      "1          Bahrain Grand Prix       ferrari  Finished      18\n",
      "2          Bahrain Grand Prix       mclaren  Finished      15\n",
      "3          Bahrain Grand Prix      red_bull  Finished      12\n",
      "4          Bahrain Grand Prix      mercedes  Finished      10\n",
      "..                        ...           ...       ...     ...\n",
      "385  Saudi Arabian Grand Prix        alpine  Finished       8\n",
      "386  Saudi Arabian Grand Prix       mclaren  Finished       6\n",
      "387  Saudi Arabian Grand Prix    alphatauri  Finished       4\n",
      "388  Saudi Arabian Grand Prix          haas  Finished       2\n",
      "389  Saudi Arabian Grand Prix      mercedes  Finished       1\n",
      "\n",
      "[390 rows x 4 columns]\n",
      "<class 'pandas.core.frame.DataFrame'>\n",
      "RangeIndex: 390 entries, 0 to 389\n",
      "Data columns (total 4 columns):\n",
      " #   Column         Non-Null Count  Dtype \n",
      "---  ------         --------------  ----- \n",
      " 0   raceName       390 non-null    object\n",
      " 1   constructorId  390 non-null    object\n",
      " 2   status         390 non-null    object\n",
      " 3   points         390 non-null    int64 \n",
      "dtypes: int64(1), object(3)\n",
      "memory usage: 12.3+ KB\n",
      "None\n"
     ]
    }
   ],
   "source": [
    "ConstructorResults = {'raceName':[],\n",
    "            'constructorId':[],\n",
    "            'status':[],\n",
    "           'points':[]\n",
    "          }\n",
    "\n",
    "for year in list(range(2010,2023)):\n",
    "    url = 'http://ergast.com/api/f1/{}/results.json'\n",
    "    response = requests.get(url.format(year))\n",
    "    content = json.loads(response.content)\n",
    "\n",
    "    for i in list(range(0, len(content['MRData']['RaceTable']['Races']))):\n",
    "        for item in content['MRData']['RaceTable']['Races'][i]['Results']:\n",
    "            ConstructorResults['raceName'].append(content['MRData']['RaceTable']['Races'][i]['raceName'])\n",
    "            ConstructorResults['constructorId'].append(item['Constructor']['constructorId'])\n",
    "            ConstructorResults['status'].append(item['status'])\n",
    "            ConstructorResults['points'].append(int(item['points']))\n",
    "\n",
    "print(pd.DataFrame(ConstructorResults))\n",
    "print(pd.DataFrame(ConstructorResults).info())\n",
    "pd.DataFrame(ConstructorResults).to_csv('14.ConstructorResults.csv', index=False)"
   ]
  },
  {
   "cell_type": "code",
   "execution_count": null,
   "id": "dc0f10a4",
   "metadata": {},
   "outputs": [],
   "source": []
  }
 ],
 "metadata": {
  "kernelspec": {
   "display_name": "Python 3 (ipykernel)",
   "language": "python",
   "name": "python3"
  },
  "language_info": {
   "codemirror_mode": {
    "name": "ipython",
    "version": 3
   },
   "file_extension": ".py",
   "mimetype": "text/x-python",
   "name": "python",
   "nbconvert_exporter": "python",
   "pygments_lexer": "ipython3",
   "version": "3.9.13"
  }
 },
 "nbformat": 4,
 "nbformat_minor": 5
}
